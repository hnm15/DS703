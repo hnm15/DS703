{
  "cells": [
    {
      "cell_type": "markdown",
      "metadata": {
        "id": "view-in-github",
        "colab_type": "text"
      },
      "source": [
        "<a href=\"https://colab.research.google.com/github/hnm15/DS703/blob/main/Homework_06_(2).ipynb\" target=\"_parent\"><img src=\"https://colab.research.google.com/assets/colab-badge.svg\" alt=\"Open In Colab\"/></a>"
      ]
    },
    {
      "cell_type": "markdown",
      "metadata": {
        "id": "_ss-w1MuY7nC"
      },
      "source": [
        "# Homework 6: N-Gram Language Models with the Brown Corpus\n",
        "\n",
        "## Due: Midnight on October 12th @ Midnight (with 2-hour grace period) and worth 85 points.\n",
        "\n",
        "## As announced, I'll not start to count late days until midnight on 10/13 (with same grace period).\n",
        "\n",
        "In this assignment you’ll practice **probabilistic language modeling (PLM)** by building N-Gram models that generate text. Along the way, you’ll develop the core pieces of a language model: estimating probabilities, calculating sentence likelihoods, and generating text with different strategies. The goal is to understand *how simple statistical models can produce coherent language*, and to explore refinements that make them more expressive.\n",
        "\n",
        "### Learning Objectives\n",
        "\n",
        "* Build and compare **unigram, bigram, and trigram** language models.\n",
        "* Calculate **word and sentence probabilities** (in log-space) and use them to measure **perplexity**.\n",
        "* Implement **probability-based generation** methods, including temperature-scaled sampling.\n",
        "* Explore **beam search** as a way to generate higher-quality sentences.\n",
        "\n",
        "### The four problems (high level)\n",
        "\n",
        "1. **Problem 1 — N-Gram probabilities:**\n",
        "   Build unigram, bigram, and trigram models. Compute next-word probabilities in log space to avoid numerical underflow.\n",
        "\n",
        "2. **Problem 2 — Sentence probability & perplexity:**\n",
        "   Define sentence probability, normalize for sentence length, and calculate perplexity as a measure of model quality.\n",
        "\n",
        "3. **Problem 3 — Controlled generation:**\n",
        "   Implement temperature-controlled sampling to vary randomness in generated sentences. Compare low vs. high temperatures.\n",
        "\n",
        "4. **Problem 4 — Beam search:**\n",
        "   Use perplexity to guide **beam search**, keeping track of the most likely candidate sentences at each step, and compare outputs to greedy generation.\n",
        "\n",
        "By the end, you’ll have a working N-Gram generator capable of producing reasonable and a solid understanding of how early probabilistic approaches to NLP laid the foundation for modern deep learning methods.\n",
        "\n"
      ]
    },
    {
      "cell_type": "markdown",
      "metadata": {
        "id": "l4eylfMEY7nE"
      },
      "source": [
        "### Recommended Workflow (Must Read!)\n",
        "\n",
        "One of the most important skills in machine learning is following a **disciplined workflow** when developing complex code. The basic idea is simple:\n",
        "\n",
        "1. **Start small:** Write and test your code using a tiny subset of your dataset.\n",
        "2. **Inspect your results:** Print out and examine intermediate outputs to verify that each step behaves as expected.\n",
        "3. **Iterate and tune:** Adjust hyperparameters and continue testing, gradually increasing the subset size as needed.\n",
        "4. **Scale up:** Once you are confident your code is bug-free and your hyperparameters are roughly correct, run it on the **full dataset** to obtain your final results.\n",
        "\n",
        "If you don’t have sufficient computing resources for a full run, use **as large a subset as practical** — provided you’ve begun early enough to allow for multiple iterations.\n",
        "\n",
        "\n",
        "To help you follow this workflow in this homework, I’ve included a variable `num_sentences` that controls how many sentences are used from the shuffled Brown Corpus.\n",
        "\n",
        "I recommend the following progression:\n",
        "\n",
        "* **Step 1:** Begin with `num_sentences = 10` to debug and print out intermediate data structures (such as dictionaries) to confirm that your code works as expected.\n",
        "* **Step 2:** Increase to `num_sentences = 100` to verify correctness and complete most of the homework efficiently.\n",
        "* **Step 3:** Finally, if possible, run with the full dataset (`num_sentences = 57_340`), or as large a subset as your resources allow, to answer the graded questions.\n",
        "\n",
        "\n",
        "There are 9 problems in this homework, each worth 9 points each, and you get 4 points free if you otherwise complete the homework."
      ]
    },
    {
      "cell_type": "markdown",
      "metadata": {
        "id": "QIZC1YKYY7nE"
      },
      "source": [
        "#### Useful Imports (add more as needed)"
      ]
    },
    {
      "cell_type": "code",
      "execution_count": 314,
      "metadata": {
        "id": "jE8sNSFnY7nE"
      },
      "outputs": [],
      "source": [
        "import math\n",
        "import re\n",
        "import string\n",
        "import random\n",
        "import spacy\n",
        "import numpy as np\n",
        "import pandas as pd\n",
        "from tqdm import tqdm\n",
        "from matplotlib import pyplot as plt\n",
        "from collections import Counter\n",
        "\n",
        "random.seed(42)"
      ]
    },
    {
      "cell_type": "code",
      "execution_count": 315,
      "metadata": {
        "id": "Y45wirNSY7nE"
      },
      "outputs": [],
      "source": [
        "'''\n",
        "Reconstruct a human-readable sentence from tokens.\n",
        "- Capitalize the first token (after removing <s>).\n",
        "- Attach any token in string.punctuation with no preceding space.\n",
        "- Attach tokens starting with an apostrophe (e.g., \"'s\", \"'ll\") with no space.\n",
        "- Capitalize standalone 'i' and 'god' wherever they appear.\n",
        "- If the last token is '.', '?', or '!', attach it without a space.\n",
        "- Ignore boundary markers <s> and </s> if present.\n",
        "Returns the sentence string and also prints it depending on flag parameter.\n",
        "'''\n",
        "\n",
        "def print_sentence(tokens, do_print=True):\n",
        "\n",
        "    if not tokens:\n",
        "        print(\"\")\n",
        "        return \"\"\n",
        "\n",
        "    # Drop boundary markers if present\n",
        "    start = 1 if tokens and tokens[0] == \"<s>\" else 0\n",
        "    end = -1 if tokens and tokens[-1] == \"</s>\" else len(tokens)\n",
        "    core = tokens[start:end]\n",
        "\n",
        "    if not core:\n",
        "        print(\"\")\n",
        "        return \"\"\n",
        "\n",
        "    # Capitalize first token\n",
        "    out = core[0].capitalize()\n",
        "\n",
        "    # Process remaining tokens with spacing rules\n",
        "    for i, t in enumerate(core[1:], start=1):\n",
        "        is_last = (i == len(core) - 1)\n",
        "\n",
        "        # Last-token punctuation rule\n",
        "        if is_last and t in {\".\", \"?\", \"!\"}:\n",
        "            out += t\n",
        "            continue\n",
        "\n",
        "        # General punctuation attaches with no space (e.g., ',', ':', ';', ')', etc.)\n",
        "        if t in string.punctuation:\n",
        "            out += t\n",
        "            continue\n",
        "\n",
        "        # Apostrophe-start tokens like \"'s\", \"'d\", \"'ll\"\n",
        "        if t.startswith(\"'\"):\n",
        "            out += t\n",
        "            continue\n",
        "\n",
        "        # Capitalize special standalone words\n",
        "        if t.lower() in {\"i\", \"god\"}:\n",
        "            out += \" \" + t.capitalize()\n",
        "            continue\n",
        "\n",
        "        # Default: add a space before normal words\n",
        "        out += \" \" + t\n",
        "\n",
        "    if do_print:\n",
        "        print(out)\n",
        "    return out\n"
      ]
    },
    {
      "cell_type": "markdown",
      "metadata": {
        "id": "ntpoEZPmY7nE"
      },
      "source": [
        "### Read in the list of all sentences in the Brown Corpus and process using SPaCy."
      ]
    },
    {
      "cell_type": "code",
      "execution_count": 316,
      "metadata": {
        "colab": {
          "base_uri": "https://localhost:8080/"
        },
        "id": "FCMqbhHPY7nF",
        "outputId": "09282ad3-5ac1-4f46-8054-05aa2a5613d3"
      },
      "outputs": [
        {
          "output_type": "stream",
          "name": "stdout",
          "text": [
            "Requirement already satisfied: nltk in /usr/local/lib/python3.12/dist-packages (3.9.1)\n",
            "Requirement already satisfied: click in /usr/local/lib/python3.12/dist-packages (from nltk) (8.3.0)\n",
            "Requirement already satisfied: joblib in /usr/local/lib/python3.12/dist-packages (from nltk) (1.5.2)\n",
            "Requirement already satisfied: regex>=2021.8.3 in /usr/local/lib/python3.12/dist-packages (from nltk) (2024.11.6)\n",
            "Requirement already satisfied: tqdm in /usr/local/lib/python3.12/dist-packages (from nltk) (4.67.1)\n"
          ]
        }
      ],
      "source": [
        "# Must do this the first time to get the Natural Language ToolKit\n",
        "\n",
        "!pip install nltk"
      ]
    },
    {
      "cell_type": "code",
      "execution_count": 317,
      "metadata": {
        "colab": {
          "base_uri": "https://localhost:8080/"
        },
        "id": "qvpR25tgY7nF",
        "outputId": "6fd10219-4f14-4e21-dcbe-89ef7f99b62f"
      },
      "outputs": [
        {
          "output_type": "stream",
          "name": "stderr",
          "text": [
            "[nltk_data] Downloading package brown to /root/nltk_data...\n",
            "[nltk_data]   Package brown is already up-to-date!\n"
          ]
        }
      ],
      "source": [
        "import nltk\n",
        "from nltk.corpus import brown\n",
        "import spacy\n",
        "\n",
        "nltk.download('brown')\n",
        "\n",
        "# Get all Brown corpus sentences as raw text\n",
        "# Brown is organized into categories, we flatten it into one list of sentences and shuffle\n",
        "# so we can create a shorter list for testing\n",
        "\n",
        "brown_texts = [\" \".join(sent) for sent in brown.sents()]\n",
        "\n",
        "random.shuffle(brown_texts)\n",
        "\n",
        "# Brown has 57_340 sentences, set `num_sentences` to 1000 or smaller for testing\n",
        "\n",
        "# num_sentences = 57_340\n",
        "num_sentences = 10                           # <<<<<=====    Here is where you can change the size of the dataset\n",
        "\n",
        "brown_texts = brown_texts[:num_sentences]\n",
        "\n",
        "# Load spaCy English pipeline\n",
        "nlp = spacy.load(\"en_core_web_sm\")\n",
        "\n",
        "# Process with spaCy: tokenize + sentencize\n",
        "docs = list(nlp.pipe(brown_texts, disable=[\"ner\", \"tagger\", \"parser\"]))\n",
        "\n",
        "# Each doc is one sentence; extract tokens and add beginning and ending tokens <s> ... </s>\n",
        "tokenized_sentences = [ ['<s>'] + [token.text.lower() for token in doc if not token.is_space] + ['</s>'] for doc in docs ]"
      ]
    },
    {
      "cell_type": "markdown",
      "metadata": {
        "id": "-eAyu8mxY7nF"
      },
      "source": [
        "#### If you have trouble downloading this...\n",
        "\n",
        "\n",
        "I have uploaded a file `brown_sentences.txt` to a Google Drive folder which anyone with the link can read, just\n",
        "uncomment the code in the next cell and run it:"
      ]
    },
    {
      "cell_type": "code",
      "execution_count": 318,
      "metadata": {
        "id": "a0lO6L8JY7nF"
      },
      "outputs": [],
      "source": [
        "import re, requests, random, spacy\n",
        "\n",
        "# Paste the shared Drive link (no need to change anything else)\n",
        "link = \"https://drive.google.com/file/d/1f_BkNDF0ny11Tn4D4jsOoXhgPSUCHKlf/view?usp=drive_link\"\n",
        "\n",
        "# --- Convert to direct download URL ---\n",
        "def get_direct_download_url(link):\n",
        "    match = re.search(r\"/d/([a-zA-Z0-9_-]+)\", link) or re.search(r\"id=([a-zA-Z0-9_-]+)\", link)\n",
        "    if not match:\n",
        "        raise ValueError(\"Could not extract file ID from the link.\")\n",
        "    file_id = match.group(1)\n",
        "    return f\"https://drive.google.com/uc?export=download&id={file_id}\"\n",
        "\n",
        "url = get_direct_download_url(link)\n",
        "\n",
        "# --- Download and prepare the text ---\n",
        "response = requests.get(url)\n",
        "lines = response.text.strip().split(\"\\n\")\n",
        "\n",
        "random.shuffle(lines)\n",
        "\n",
        "\n",
        "# Etc as before\n"
      ]
    },
    {
      "cell_type": "code",
      "execution_count": 319,
      "metadata": {
        "colab": {
          "base_uri": "https://localhost:8080/"
        },
        "id": "plj2SgZlY7nF",
        "outputId": "4dc4b1d8-03e9-4263-c10e-2b263929d805"
      },
      "outputs": [
        {
          "output_type": "stream",
          "name": "stdout",
          "text": [
            "Number of sentences: 10\n",
            "First sentence:      He let her tell him all about the church.\n",
            "Tokenized sentence: ['<s>', 'he', 'let', 'her', 'tell', 'him', 'all', 'about', 'the', 'church', '.', '</s>']\n"
          ]
        }
      ],
      "source": [
        "print(\"Number of sentences:\", len(tokenized_sentences))\n",
        "print(\"First sentence:      \",end='')\n",
        "print_sentence(tokenized_sentences[0])\n",
        "print(\"Tokenized sentence: \",end='')\n",
        "print(tokenized_sentences[0])"
      ]
    },
    {
      "cell_type": "markdown",
      "metadata": {
        "id": "-YRJUGJbY7nG"
      },
      "source": [
        "### A Little EDA...."
      ]
    },
    {
      "cell_type": "code",
      "execution_count": 320,
      "metadata": {
        "colab": {
          "base_uri": "https://localhost:8080/"
        },
        "id": "irrl-aunY7nG",
        "outputId": "67b14e19-9494-4598-9914-e3eea9c28ff5"
      },
      "outputs": [
        {
          "output_type": "stream",
          "name": "stdout",
          "text": [
            "Total number of characters in the text: 917\n",
            "Total number of tokens:    177\n",
            "Number of unique tokens:   112\n",
            "Total number of sentences: 10\n",
            "Total number of words:     155\n",
            "Number of unique words:    107\n",
            "\n",
            "Top 10 words:\n",
            "the            : 14\n",
            "of             : 6\n",
            "a              : 6\n",
            "and            : 5\n",
            "to             : 4\n",
            "be             : 4\n",
            "it             : 3\n",
            "is             : 3\n",
            "in             : 3\n",
            "he             : 2\n",
            "\n",
            "Bottom 10 words:\n",
            "cornerstone    : 1\n",
            "keys           : 1\n",
            "theory         : 1\n",
            "mysterious     : 1\n",
            "yellowish      : 1\n",
            "waxy           : 1\n",
            "substance      : 1\n",
            "chemically     : 1\n",
            "crystalline    : 1\n",
            "alcohol        : 1\n"
          ]
        }
      ],
      "source": [
        "# Flatten tokens (exclude spaces)\n",
        "all_tokens = [tok.text.lower() for sent in docs for tok in sent if not tok.is_space]\n",
        "\n",
        "# Define \"word\": alphabetic, or alphabetic after removing internal apostrophes\n",
        "def is_word(tok):\n",
        "    s = tok.text\n",
        "    return s.isalpha() or s.replace(\"'\", \"\").isalpha()\n",
        "\n",
        "# Extract words using the definition above\n",
        "words = [\n",
        "    tok.text.lower()\n",
        "    for sent in docs\n",
        "    for tok in sent\n",
        "    if not tok.is_space and is_word(tok)\n",
        "]\n",
        "\n",
        "# Counts\n",
        "num_chars = sum(len(s) for s in brown_texts)   # or len(text) if you started from one big text\n",
        "num_tokens = len(all_tokens)\n",
        "num_unique_tokens = len(set(all_tokens))\n",
        "num_sentences = len(docs)\n",
        "num_words = len(words)\n",
        "num_unique_words = len(set(words))\n",
        "\n",
        "print(f\"Total number of characters in the text: {num_chars:,}\")\n",
        "print(f\"Total number of tokens:    {num_tokens:,}\")\n",
        "print(f\"Number of unique tokens:   {num_unique_tokens:,}\")\n",
        "print(f\"Total number of sentences: {num_sentences:,}\")\n",
        "print(f\"Total number of words:     {num_words:,}\")\n",
        "print(f\"Number of unique words:    {num_unique_words:,}\")\n",
        "\n",
        "# Frequencies\n",
        "word_counts = Counter(words)\n",
        "most_common_words = word_counts.most_common()\n",
        "\n",
        "# Top 10\n",
        "print(\"\\nTop 10 words:\")\n",
        "for token, freq in most_common_words[:10]:\n",
        "    print(f\"{token:<15}: {freq:,}\")\n",
        "\n",
        "# Bottom 10\n",
        "print(\"\\nBottom 10 words:\")\n",
        "for token, freq in most_common_words[-10:]:\n",
        "    print(f\"{token:<15}: {freq:,}\")"
      ]
    },
    {
      "cell_type": "markdown",
      "metadata": {
        "id": "KrmtpS5ZY7nG"
      },
      "source": [
        "### Digression: Zipf's Law\n",
        "\n",
        "Zipf's Law is an empirical regularity of natural language:  \n",
        "if you rank words by their frequency in a corpus, the frequency \\( f(r) \\) of the word at rank \\( r \\) is approximately inversely proportional to its rank:\n",
        "\n",
        "$$\n",
        "f(r) \\propto \\frac{1}{r^k}\n",
        "$$\n",
        "\n",
        "where $ r = 1, 2, 3, \\dots $ is the rank of a word (1 = most frequent), and $ k \\approx 1 $.  \n",
        "\n",
        "- The most common words (e.g., *the*, *of*, *and*) occur very often.  \n",
        "- A handful of mid-ranked words occur moderately often.  \n",
        "- The vast majority of words occur rarely.  \n",
        "\n",
        "On a **log–log plot** of frequency vs. rank, this relationship appears as a straight line with slope \\(-k\\).  \n",
        "For natural language, empirical studies show that $k \\approx 1$, which is why we plot below a reference line with slope $-1$ to compare against real corpus data.\n",
        "\n",
        "\n",
        "**Why this matters:** Because most words are rare, language models must use techniques like **smoothing, subword modeling, or embeddings** to handle sparsity and represent meaning effectively.  \n"
      ]
    },
    {
      "cell_type": "code",
      "execution_count": 321,
      "metadata": {
        "colab": {
          "base_uri": "https://localhost:8080/",
          "height": 932
        },
        "id": "tz025ClyY7nG",
        "outputId": "68b4a38d-3bf3-4f50-d89b-229ed6e542f0"
      },
      "outputs": [
        {
          "output_type": "display_data",
          "data": {
            "text/plain": [
              "<Figure size 800x500 with 1 Axes>"
            ],
            "image/png": "[encoded data removed]"
          },
          "metadata": {}
        },
        {
          "output_type": "display_data",
          "data": {
            "text/plain": [
              "<Figure size 800x400 with 1 Axes>"
            ],
            "image/png": "[encoded data removed]"
          },
          "metadata": {}
        },
        {
          "output_type": "stream",
          "name": "stdout",
          "text": [
            "Average sentence length: 17.70 tokens\n",
            "Max sentence length:     29 tokens\n"
          ]
        }
      ],
      "source": [
        "# Frequencies sorted by rank\n",
        "freqs = np.array([freq for token, freq in word_counts.most_common()])\n",
        "ranks = np.arange(1, len(freqs) + 1)\n",
        "\n",
        "plt.figure(figsize=(8, 5))\n",
        "plt.plot(ranks, freqs, label=\"Corpus data\")\n",
        "\n",
        "# Reference line: slope = -1 (Zipf’s law)\n",
        "# Match scale by anchoring at the first frequency\n",
        "ref_line = freqs[0] / ranks\n",
        "plt.plot(ranks, ref_line, \"--\", label=\"Reference slope = -1\")\n",
        "\n",
        "plt.xscale(\"log\")\n",
        "plt.yscale(\"log\")\n",
        "plt.title(\"Token Frequencies vs. Rank (Zipf’s Law)\")\n",
        "plt.xlabel(\"Rank of token\")\n",
        "plt.ylabel(\"Frequency of token\")\n",
        "plt.grid(True, which=\"both\", ls=\"--\", alpha=0.6)\n",
        "plt.legend()\n",
        "plt.tight_layout()\n",
        "plt.show()\n",
        "\n",
        "# Compute sentence lengths from spaCy docs\n",
        "sentence_lengths = [len([tok for tok in sent if not tok.is_space]) for sent in docs]\n",
        "\n",
        "# Plot histogram\n",
        "plt.figure(figsize=(8, 4))\n",
        "plt.hist(\n",
        "    sentence_lengths,\n",
        "    bins=range(1, max(sentence_lengths) + 2),\n",
        "    color=\"skyblue\",\n",
        "    edgecolor=\"black\"\n",
        ")\n",
        "plt.title(\"Histogram of Sentence Lengths\")\n",
        "plt.xlabel(\"Sentence length (in tokens)\")\n",
        "plt.ylabel(\"Number of sentences\")\n",
        "plt.tight_layout()\n",
        "plt.show()\n",
        "\n",
        "print(f\"Average sentence length: {sum(sentence_lengths)/len(sentence_lengths):.2f} tokens\")\n",
        "print(f\"Max sentence length:     {max(sentence_lengths)} tokens\")"
      ]
    },
    {
      "cell_type": "markdown",
      "metadata": {
        "id": "GsjrqhEgY7nG"
      },
      "source": [
        "## Problem One — Build the PLM (bigrams & trigrams)\n",
        "\n",
        "For this problem, you must adapt (mostly cut-and-paste) the code from this week’s Coding Notebook to the new dataset. You are using a trigram model as well as bigrams but your professor has written code that should mostly work for any N.\n",
        "\n",
        "We provide a pre-processed dataset above, with sentences already tokenized and enclosed in the boundary tokens `<s>` and `</s>`.\n",
        "\n",
        "**Set `num_sentences=10` to start!**\n",
        "\n",
        "**ToDo:**\n",
        "\n",
        "**A.** Build N-grams for N = 2, 3\n",
        "\n",
        "- Compute all bigrams and trigrams over the tokenized sentences (boundary tokens included).\n",
        "\n",
        "**B.** Create a dictionary mapping left-contexts to next-word lists\n",
        "\n",
        "- For each N, map each context (length N−1) to a list of next tokens (allow duplicates so frequency = count).\n",
        "\n",
        "**C.** Convert to (log) probability distributions\n",
        "\n",
        "- Turn each context’s next-word list into a distribution of log-probabilities (see **Appendix Two**).\n",
        "\n",
        "**D.** Create the Probability Language Model (PLM)\n",
        "\n",
        "- Create a dictionary `get_next_word` with:\n",
        "\n",
        "    - Key: left context (tuple of 1 token for bigrams; 2 tokens for trigrams).\n",
        "    \n",
        "    - Values: nested dictionary mapping next tokens to log-probabilities `{next_token: log_prob, ...}`.\n",
        "\n",
        "- Create a **single dictionary** (since bigrams and trigrams have a left context of different lengths, and they won't get confused in the dictionary).\n",
        "\n",
        "\n",
        "**E.** Set the variable `num_sentences = 10` and do a sanity check by displaying the distribution for the bigram contexts e.g., `('<s>',)` and `('the',)` and a trigram context `('<s>','the')`. If for some reason these are not present, increase the number of sentences slightly.  \n",
        "\n",
        "**F.**  Generate 5 next words for each of the 3 examples in the previous part.\n",
        "\n",
        "**Then answer the graded questions.**"
      ]
    },
    {
      "cell_type": "code",
      "source": [
        "# Your code here (add as many cells as you need)\n",
        "import math\n",
        "import random\n",
        "import nltk\n",
        "import spacy\n",
        "from collections import defaultdict, Counter\n",
        "\n",
        "nltk.download('brown', quiet=True)\n",
        "from nltk.corpus import brown\n",
        "\n",
        "random.seed(42)\n",
        "\n",
        "brown_texts = [\" \".join(sent) for sent in brown.sents()]\n",
        "random.shuffle(brown_texts)\n",
        "\n",
        "num_sentences = 30\n",
        "\n",
        "brown_texts = brown_texts[:num_sentences]\n",
        "\n",
        "nlp = spacy.load(\"en_core_web_sm\")\n",
        "docs = list(nlp.pipe(brown_texts, disable=[\"ner\", \"tagger\", \"parser\"]))\n",
        "\n",
        "tokenized_sentences = [\n",
        "    ['<s>'] + [token.text.lower() for token in doc if not token.is_space] + ['</s>']\n",
        "    for doc in docs\n",
        "]\n",
        "\n",
        "print(f\"Number of sentences: {len(tokenized_sentences)}\")\n",
        "print(f\"First sentence: {tokenized_sentences[0]}\")\n",
        "print()\n",
        "\n",
        "def build_ngrams(sentences, n):\n",
        "    \"\"\"\n",
        "    Build n-grams from tokenized sentences.\n",
        "\n",
        "    Args:\n",
        "        sentences: List of tokenized sentences (each sentence is a list of tokens)\n",
        "        n: The n in n-gram (2 for bigrams, 3 for trigrams)\n",
        "\n",
        "    Returns:\n",
        "        List of n-grams (each n-gram is a tuple of n tokens)\n",
        "    \"\"\"\n",
        "    ngrams = []\n",
        "    for sentence in sentences:\n",
        "        for i in range(len(sentence) - n + 1):\n",
        "            ngram = tuple(sentence[i:i+n])\n",
        "            ngrams.append(ngram)\n",
        "    return ngrams\n",
        "\n",
        "bigrams = build_ngrams(tokenized_sentences, n=2)\n",
        "trigrams = build_ngrams(tokenized_sentences, n=3)\n",
        "\n",
        "print(\"=\"*70)\n",
        "print(\"A. BUILD N-GRAMS\")\n",
        "print(\"=\"*70)\n",
        "print(f\"Number of bigrams: {len(bigrams):,}\")\n",
        "print(f\"Number of trigrams: {len(trigrams):,}\")\n",
        "print(f\"\\nFirst 10 bigrams: {bigrams[:10]}\")\n",
        "print(f\"\\nFirst 10 trigrams: {trigrams[:10]}\")\n",
        "print()\n",
        "\n",
        "def build_context_to_next_words(ngrams):\n",
        "    \"\"\"\n",
        "    Map each context (first n-1 tokens) to a list of next tokens.\n",
        "    Duplicates are kept to preserve frequency information.\n",
        "\n",
        "    Args:\n",
        "        ngrams: List of n-grams (tuples)\n",
        "\n",
        "    Returns:\n",
        "        Dictionary: {context_tuple: [next_word1, next_word2, ...]}\n",
        "    \"\"\"\n",
        "    context_dict = defaultdict(list)\n",
        "    for ngram in ngrams:\n",
        "        context = ngram[:-1]\n",
        "        next_word = ngram[-1]\n",
        "        context_dict[context].append(next_word)\n",
        "    return dict(context_dict)\n",
        "\n",
        "bigram_contexts = build_context_to_next_words(bigrams)\n",
        "trigram_contexts = build_context_to_next_words(trigrams)\n",
        "\n",
        "print(\"=\"*70)\n",
        "print(\"B. CONTEXT TO NEXT-WORD LISTS\")\n",
        "print(\"=\"*70)\n",
        "print(f\"Number of unique bigram contexts: {len(bigram_contexts):,}\")\n",
        "print(f\"Number of unique trigram contexts: {len(trigram_contexts):,}\")\n",
        "\n",
        "if ('<s>',) in bigram_contexts:\n",
        "    print(f\"\\nExample - bigram context ('<s>',):\")\n",
        "    print(f\"  Next words (with duplicates): {bigram_contexts[('<s>',)]}\")\n",
        "print()\n",
        "\n",
        "\n",
        "def compute_log_probabilities(next_words_list):\n",
        "    \"\"\"\n",
        "    Convert a list of next words (with duplicates) to log probabilities.\n",
        "\n",
        "    Args:\n",
        "        next_words_list: List of next words (duplicates represent frequency)\n",
        "\n",
        "    Returns:\n",
        "        Dictionary: {word: log_probability}\n",
        "    \"\"\"\n",
        "    total_count = len(next_words_list)\n",
        "    word_counts = Counter(next_words_list)\n",
        "\n",
        "    log_probs = {}\n",
        "    for word, count in word_counts.items():\n",
        "        probability = count / total_count\n",
        "        log_probs[word] = math.log(probability)\n",
        "\n",
        "    return log_probs\n",
        "\n",
        "print(\"=\"*70)\n",
        "print(\"C. CONVERT TO LOG PROBABILITIES\")\n",
        "print(\"=\"*70)\n",
        "if ('<s>',) in bigram_contexts:\n",
        "    example_log_probs = compute_log_probabilities(bigram_contexts[('<s>',)])\n",
        "    print(f\"Example - log probabilities for context ('<s>',):\")\n",
        "    for word, log_prob in sorted(example_log_probs.items(), key=lambda x: x[1], reverse=True):\n",
        "        prob = math.exp(log_prob)\n",
        "        print(f\"  {word:<15} log_prob: {log_prob:8.4f}  prob: {prob:.6f}\")\n",
        "print()\n",
        "\n",
        "def build_plm(context_dict):\n",
        "    \"\"\"\n",
        "    Build a PLM dictionary with log probabilities.\n",
        "\n",
        "    Args:\n",
        "        context_dict: Dictionary mapping contexts to lists of next words\n",
        "\n",
        "    Returns:\n",
        "        Dictionary: {context_tuple: {next_word: log_prob, ...}}\n",
        "    \"\"\"\n",
        "    plm = {}\n",
        "    for context, next_words in context_dict.items():\n",
        "        plm[context] = compute_log_probabilities(next_words)\n",
        "    return plm\n",
        "\n",
        "bigram_plm = build_plm(bigram_contexts)\n",
        "trigram_plm = build_plm(trigram_contexts)\n",
        "\n",
        "get_next_word = {}\n",
        "get_next_word.update(bigram_plm)\n",
        "get_next_word.update(trigram_plm)\n",
        "\n",
        "print(\"=\"*70)\n",
        "print(\"D. CREATE PLM DICTIONARY\")\n",
        "print(\"=\"*70)\n",
        "print(f\"Total contexts in get_next_word: {len(get_next_word):,}\")\n",
        "print(f\"  - Bigram contexts (length 1): {len(bigram_plm):,}\")\n",
        "print(f\"  - Trigram contexts (length 2): {len(trigram_plm):,}\")\n",
        "print()\n",
        "\n",
        "print(\"=\"*70)\n",
        "print(\"E. SANITY CHECK - PROBABILITY DISTRIBUTIONS\")\n",
        "print(\"=\"*70)\n",
        "print(f\"num_sentences = {num_sentences}\")\n",
        "print()\n",
        "\n",
        "context1 = ('<s>',)\n",
        "if context1 in get_next_word:\n",
        "    print(f\"Bigram context {context1}:\")\n",
        "    dist1 = get_next_word[context1]\n",
        "    sorted_dist1 = sorted(dist1.items(), key=lambda x: x[1], reverse=True)\n",
        "    for word, log_prob in sorted_dist1:\n",
        "        prob = math.exp(log_prob)\n",
        "        print(f\"  {word:<15} log_prob: {log_prob:8.4f}  prob: {prob:.6f}\")\n",
        "    print()\n",
        "else:\n",
        "    print(f\"Context {context1} not found. Increase num_sentences.\")\n",
        "    print()\n",
        "\n",
        "context2 = ('the',)\n",
        "if context2 in get_next_word:\n",
        "    print(f\"Bigram context {context2}:\")\n",
        "    dist2 = get_next_word[context2]\n",
        "    sorted_dist2 = sorted(dist2.items(), key=lambda x: x[1], reverse=True)\n",
        "    for word, log_prob in sorted_dist2:\n",
        "        prob = math.exp(log_prob)\n",
        "        print(f\"  {word:<15} log_prob: {log_prob:8.4f}  prob: {prob:.6f}\")\n",
        "    print()\n",
        "else:\n",
        "    print(f\"Context {context2} not found. Increase num_sentences.\")\n",
        "    print()\n",
        "\n",
        "context3 = ('<s>', 'the')\n",
        "if context3 in get_next_word:\n",
        "    print(f\"Trigram context {context3}:\")\n",
        "    dist3 = get_next_word[context3]\n",
        "    sorted_dist3 = sorted(dist3.items(), key=lambda x: x[1], reverse=True)\n",
        "    for word, log_prob in sorted_dist3:\n",
        "        prob = math.exp(log_prob)\n",
        "        print(f\"  {word:<15} log_prob: {log_prob:8.4f}  prob: {prob:.6f}\")\n",
        "    print()\n",
        "else:\n",
        "    print(f\"Context {context3} not found. Increase num_sentences.\")\n",
        "    print()\n",
        "\n",
        "\n",
        "def sample_next_word(log_prob_dict, num_samples=5):\n",
        "    \"\"\"\n",
        "    Sample next words based on their probabilities.\n",
        "\n",
        "    Args:\n",
        "        log_prob_dict: Dictionary mapping words to log probabilities\n",
        "        num_samples: Number of samples to generate\n",
        "\n",
        "    Returns:\n",
        "        List of sampled words\n",
        "    \"\"\"\n",
        "    words = list(log_prob_dict.keys())\n",
        "    log_probs = list(log_prob_dict.values())\n",
        "\n",
        "    probs = [math.exp(lp) for lp in log_probs]\n",
        "\n",
        "    samples = random.choices(words, weights=probs, k=num_samples)\n",
        "    return samples\n",
        "\n",
        "print(\"=\"*70)\n",
        "print(\"F. GENERATE 5 NEXT WORDS FOR EACH CONTEXT\")\n",
        "print(\"=\"*70)\n",
        "\n",
        "if context1 in get_next_word:\n",
        "    samples1 = sample_next_word(get_next_word[context1], num_samples=5)\n",
        "    print(f\"5 samples for {context1}: {samples1}\")\n",
        "\n",
        "if context2 in get_next_word:\n",
        "    samples2 = sample_next_word(get_next_word[context2], num_samples=5)\n",
        "    print(f\"5 samples for {context2}: {samples2}\")\n",
        "\n",
        "if context3 in get_next_word:\n",
        "    samples3 = sample_next_word(get_next_word[context3], num_samples=5)\n",
        "    print(f\"5 samples for {context3}: {samples3}\")\n",
        "\n",
        "    a1 = samples3\n",
        "    print(f\"\\na1 = {a1}\")\n",
        "else:\n",
        "    print(f\"\\nContext {context3} not found. Please increase num_sentences.\")\n",
        "    a1 = []\n",
        "\n",
        "print(\"\\n\" + \"=\"*70)\n",
        "print(\"=\"*70)\n"
      ],
      "metadata": {
        "colab": {
          "base_uri": "https://localhost:8080/"
        },
        "id": "vfrTQnCDk9Yc",
        "outputId": "d9b27ac6-4a82-41c3-cf72-96c37842edd1"
      },
      "execution_count": 322,
      "outputs": [
        {
          "output_type": "stream",
          "name": "stdout",
          "text": [
            "Number of sentences: 30\n",
            "First sentence: ['<s>', 'he', 'let', 'her', 'tell', 'him', 'all', 'about', 'the', 'church', '.', '</s>']\n",
            "\n",
            "======================================================================\n",
            "A. BUILD N-GRAMS\n",
            "======================================================================\n",
            "Number of bigrams: 621\n",
            "Number of trigrams: 591\n",
            "\n",
            "First 10 bigrams: [('<s>', 'he'), ('he', 'let'), ('let', 'her'), ('her', 'tell'), ('tell', 'him'), ('him', 'all'), ('all', 'about'), ('about', 'the'), ('the', 'church'), ('church', '.')]\n",
            "\n",
            "First 10 trigrams: [('<s>', 'he', 'let'), ('he', 'let', 'her'), ('let', 'her', 'tell'), ('her', 'tell', 'him'), ('tell', 'him', 'all'), ('him', 'all', 'about'), ('all', 'about', 'the'), ('about', 'the', 'church'), ('the', 'church', '.'), ('church', '.', '</s>')]\n",
            "\n",
            "======================================================================\n",
            "B. CONTEXT TO NEXT-WORD LISTS\n",
            "======================================================================\n",
            "Number of unique bigram contexts: 326\n",
            "Number of unique trigram contexts: 550\n",
            "\n",
            "Example - bigram context ('<s>',):\n",
            "  Next words (with duplicates): ['he', 'china', 'finally', 'a', 'he', 'during', 'it', 'just', 'water', 'cholesterol', '`', 'there', 'it', 'acquire', 'in', 'theories', 'all', 'we', 'to', '`', 'a', 'if', 'little', 'the', 'after', '`', 'there', 'the', 'that', 'he']\n",
            "\n",
            "======================================================================\n",
            "C. CONVERT TO LOG PROBABILITIES\n",
            "======================================================================\n",
            "Example - log probabilities for context ('<s>',):\n",
            "  he              log_prob:  -2.3026  prob: 0.100000\n",
            "  `               log_prob:  -2.3026  prob: 0.100000\n",
            "  a               log_prob:  -2.7081  prob: 0.066667\n",
            "  it              log_prob:  -2.7081  prob: 0.066667\n",
            "  there           log_prob:  -2.7081  prob: 0.066667\n",
            "  the             log_prob:  -2.7081  prob: 0.066667\n",
            "  china           log_prob:  -3.4012  prob: 0.033333\n",
            "  finally         log_prob:  -3.4012  prob: 0.033333\n",
            "  during          log_prob:  -3.4012  prob: 0.033333\n",
            "  just            log_prob:  -3.4012  prob: 0.033333\n",
            "  water           log_prob:  -3.4012  prob: 0.033333\n",
            "  cholesterol     log_prob:  -3.4012  prob: 0.033333\n",
            "  acquire         log_prob:  -3.4012  prob: 0.033333\n",
            "  in              log_prob:  -3.4012  prob: 0.033333\n",
            "  theories        log_prob:  -3.4012  prob: 0.033333\n",
            "  all             log_prob:  -3.4012  prob: 0.033333\n",
            "  we              log_prob:  -3.4012  prob: 0.033333\n",
            "  to              log_prob:  -3.4012  prob: 0.033333\n",
            "  if              log_prob:  -3.4012  prob: 0.033333\n",
            "  little          log_prob:  -3.4012  prob: 0.033333\n",
            "  after           log_prob:  -3.4012  prob: 0.033333\n",
            "  that            log_prob:  -3.4012  prob: 0.033333\n",
            "\n",
            "======================================================================\n",
            "D. CREATE PLM DICTIONARY\n",
            "======================================================================\n",
            "Total contexts in get_next_word: 876\n",
            "  - Bigram contexts (length 1): 326\n",
            "  - Trigram contexts (length 2): 550\n",
            "\n",
            "======================================================================\n",
            "E. SANITY CHECK - PROBABILITY DISTRIBUTIONS\n",
            "======================================================================\n",
            "num_sentences = 30\n",
            "\n",
            "Bigram context ('<s>',):\n",
            "  he              log_prob:  -2.3026  prob: 0.100000\n",
            "  `               log_prob:  -2.3026  prob: 0.100000\n",
            "  a               log_prob:  -2.7081  prob: 0.066667\n",
            "  it              log_prob:  -2.7081  prob: 0.066667\n",
            "  there           log_prob:  -2.7081  prob: 0.066667\n",
            "  the             log_prob:  -2.7081  prob: 0.066667\n",
            "  china           log_prob:  -3.4012  prob: 0.033333\n",
            "  finally         log_prob:  -3.4012  prob: 0.033333\n",
            "  during          log_prob:  -3.4012  prob: 0.033333\n",
            "  just            log_prob:  -3.4012  prob: 0.033333\n",
            "  water           log_prob:  -3.4012  prob: 0.033333\n",
            "  cholesterol     log_prob:  -3.4012  prob: 0.033333\n",
            "  acquire         log_prob:  -3.4012  prob: 0.033333\n",
            "  in              log_prob:  -3.4012  prob: 0.033333\n",
            "  theories        log_prob:  -3.4012  prob: 0.033333\n",
            "  all             log_prob:  -3.4012  prob: 0.033333\n",
            "  we              log_prob:  -3.4012  prob: 0.033333\n",
            "  to              log_prob:  -3.4012  prob: 0.033333\n",
            "  if              log_prob:  -3.4012  prob: 0.033333\n",
            "  little          log_prob:  -3.4012  prob: 0.033333\n",
            "  after           log_prob:  -3.4012  prob: 0.033333\n",
            "  that            log_prob:  -3.4012  prob: 0.033333\n",
            "\n",
            "Bigram context ('the',):\n",
            "  church          log_prob:  -2.8904  prob: 0.055556\n",
            "  people          log_prob:  -3.5835  prob: 0.027778\n",
            "  horse           log_prob:  -3.5835  prob: 0.027778\n",
            "  human           log_prob:  -3.5835  prob: 0.027778\n",
            "  council         log_prob:  -3.5835  prob: 0.027778\n",
            "  way             log_prob:  -3.5835  prob: 0.027778\n",
            "  noise           log_prob:  -3.5835  prob: 0.027778\n",
            "  summer          log_prob:  -3.5835  prob: 0.027778\n",
            "  setting         log_prob:  -3.5835  prob: 0.027778\n",
            "  saltbush        log_prob:  -3.5835  prob: 0.027778\n",
            "  bluebush        log_prob:  -3.5835  prob: 0.027778\n",
            "  hills           log_prob:  -3.5835  prob: 0.027778\n",
            "  cornerstone     log_prob:  -3.5835  prob: 0.027778\n",
            "  far             log_prob:  -3.5835  prob: 0.027778\n",
            "  office          log_prob:  -3.5835  prob: 0.027778\n",
            "  forest          log_prob:  -3.5835  prob: 0.027778\n",
            "  behavior        log_prob:  -3.5835  prob: 0.027778\n",
            "  motion          log_prob:  -3.5835  prob: 0.027778\n",
            "  elders          log_prob:  -3.5835  prob: 0.027778\n",
            "  deputies        log_prob:  -3.5835  prob: 0.027778\n",
            "  sentence        log_prob:  -3.5835  prob: 0.027778\n",
            "  pathet          log_prob:  -3.5835  prob: 0.027778\n",
            "  denomination    log_prob:  -3.5835  prob: 0.027778\n",
            "  rev.            log_prob:  -3.5835  prob: 0.027778\n",
            "  vision          log_prob:  -3.5835  prob: 0.027778\n",
            "  next            log_prob:  -3.5835  prob: 0.027778\n",
            "  final           log_prob:  -3.5835  prob: 0.027778\n",
            "  ring            log_prob:  -3.5835  prob: 0.027778\n",
            "  synthetic       log_prob:  -3.5835  prob: 0.027778\n",
            "  president       log_prob:  -3.5835  prob: 0.027778\n",
            "  necessity       log_prob:  -3.5835  prob: 0.027778\n",
            "  ferry           log_prob:  -3.5835  prob: 0.027778\n",
            "  genuinely       log_prob:  -3.5835  prob: 0.027778\n",
            "  degree          log_prob:  -3.5835  prob: 0.027778\n",
            "  suitcase        log_prob:  -3.5835  prob: 0.027778\n",
            "\n",
            "Trigram context ('<s>', 'the'):\n",
            "  president       log_prob:  -0.6931  prob: 0.500000\n",
            "  genuinely       log_prob:  -0.6931  prob: 0.500000\n",
            "\n",
            "======================================================================\n",
            "F. GENERATE 5 NEXT WORDS FOR EACH CONTEXT\n",
            "======================================================================\n",
            "5 samples for ('<s>',): ['`', 'there', 'he', 'that', '`']\n",
            "5 samples for ('the',): ['setting', 'saltbush', 'way', 'president', 'behavior']\n",
            "5 samples for ('<s>', 'the'): ['president', 'president', 'genuinely', 'president', 'president']\n",
            "\n",
            "a1 = ['president', 'president', 'genuinely', 'president', 'president']\n",
            "\n",
            "======================================================================\n",
            "======================================================================\n"
          ]
        }
      ]
    },
    {
      "cell_type": "markdown",
      "metadata": {
        "id": "DDx-psBDY7nG"
      },
      "source": [
        "### Graded Question:\n",
        "\n",
        "In the next cell, set `a1` to the list of 5 next words for the trigram context `('<s>','the')` (unlikely, but you may have to adjust `num_sentences` as indicated)."
      ]
    },
    {
      "cell_type": "code",
      "execution_count": 323,
      "metadata": {
        "id": "OLWjjttGY7nG"
      },
      "outputs": [],
      "source": [
        "# Your answer here\n",
        "\n",
        "a1 = ['president', 'president', 'genuinely', 'president', 'president']\n"
      ]
    },
    {
      "cell_type": "code",
      "execution_count": 324,
      "metadata": {
        "colab": {
          "base_uri": "https://localhost:8080/"
        },
        "id": "-Zf5f-jiY7nG",
        "outputId": "49939127-a7d1-430c-9d2d-2703b8f23163"
      },
      "outputs": [
        {
          "output_type": "stream",
          "name": "stdout",
          "text": [
            "a1 = ['president', 'president', 'genuinely', 'president', 'president']\n"
          ]
        }
      ],
      "source": [
        "# Graded Answer\n",
        "# DO NOT change this cell in any way and do not make any other assignments to variable a1 in this problem\n",
        "\n",
        "\n",
        "print(f'a1 = {a1}')\n"
      ]
    },
    {
      "cell_type": "markdown",
      "metadata": {
        "id": "XvdFofJ0Y7nG"
      },
      "source": [
        "## Problem Two: Generating Sentences with Backoff and Temperature\n",
        "\n",
        "\n",
        "The algorithm for generating sentences from a N-Gram PLM is simple: look at the last $N-1$ tokens of the sentence and use the probability distribution of next words to select the continuation word; stop when you generate `'</s>'`.\n",
        "\n",
        "\n",
        "For **bigrams**, this works well: Every token in the text is followed by another token (because `</s>` ends every sentence).\n",
        "\n",
        "However there are two problems when using N-grams for $N>2$:\n",
        "\n",
        "**1. Cold Start (not enough left-context):**  You don't have enough left context in the beginning, so you start with what you have until you have enough left context.   For example, with trigrams:\n",
        "\n",
        "                                          Find next word using:\n",
        "        Step 1:    <s> ?                      bigrams\n",
        "         context:  ---\n",
        "        Step 2:    <s> One ?                  trigrams\n",
        "         context:  ------\n",
        "        Step 3:    <s> One ish ?             continue on with trigrams\n",
        "         context:      ---------\n",
        "\n",
        "\n",
        "**2. Sparsity (not enough N-grams):** For bigrams we always have a continuation for the left context (1 token). However, it is possible for $N>2$ that there is no N-gram which gives you a choice of next words, for example, suppose your sentence so far is\n",
        "\n",
        "            \"One fish dish ...\"\n",
        "\n",
        "and there is no trigram in the form `(\"fish\", \"dish\", ...)`. In this case we use the **backoff** strategy: if there is no trigram left-context `(\"fish\", \"dish\")`,\n",
        "cut out one token and use the (safe) bigram strategy with left context `(\"dish\",)`.  In general, for any $N$,\n",
        "if $N$ does not provide a next word, try $N-1$, $N-2$ etc. until one is found (in the worse case,\n",
        "for $N=1$, you'll just select a likely word without any left-context, but note that with boundary tokens, you'll\n",
        "always have a bigram).\n",
        "\n",
        "\n",
        "**ToDo:**\n",
        "\n",
        "- Adapt the code for generating sentences from the Coding Video to perform the backoff strategy just described, and using your code from Problem One.\n",
        "- Make sure you convert the log probabilities **back into non-log probabilities before you use them as weights in in `np.choice(..., p=weights)`**.\n",
        "- Perform 3 experiments with temperature set at 0.2, 1.0, and 5.0 **with the full dataset if possible**:\n",
        "    - Generate 10 sentences for each temperature, print them out using `print_sentence` and observe whatever differences you can.\n",
        "- Answer the graded questions."
      ]
    },
    {
      "cell_type": "code",
      "execution_count": 325,
      "metadata": {
        "colab": {
          "base_uri": "https://localhost:8080/"
        },
        "id": "CUswrPgCY7nG",
        "outputId": "61822ed8-f24c-48bf-888f-cc63dbf4eafa"
      },
      "outputs": [
        {
          "output_type": "stream",
          "name": "stdout",
          "text": [
            "======================================================================\n",
            "SENTENCE GENERATION WITH BACKOFF STRATEGY\n",
            "======================================================================\n",
            "\n",
            "Note: Make sure 'get_next_word' PLM is already built from Problem 2!\n",
            "      And that 'print_sentence' function is available.\n",
            "\n",
            "\n",
            "======================================================================\n",
            "Temperature = 0.2\n",
            "======================================================================\n",
            "\n",
            " 1. He saw the suitcase, which julia was holding.\n",
            " 2. The genuinely interesting question, then, becomes: what factors determine the degree of realism or distortion in conventional images of jews??\n",
            " 3. He saw the suitcase, which julia was holding.\n",
            " 4. `` but you ca n't ride into the ring because it is softened by the saltbush and the bluebush, has a peaceful quality, the rev. mr. brandt suggested the vision of 8,000 new assemblies of God churches in the church today stands in the way of unity\n",
            " 5. He let her tell him all about the church today stands in the church today stands in the next 10 years.\n",
            " 6. There are ice cubes in a container at the far end and in another by the office.\n",
            " 7. The president knew that a confrontation with mr. khrushchev sooner or later probably was inevitable and even desirable.\n",
            " 8. He rolled over and tried to integrate tibet by extirpating the people's religion and institutions.\n",
            " 9. Theories of the human than any other presently known species.\n",
            "10. He saw the suitcase, which julia was holding.\n",
            "\n",
            "======================================================================\n",
            "Temperature = 1.0\n",
            "======================================================================\n",
            "\n",
            " 1. He let her tell him all about the church today stands in the forest development road and trail system, there are ice cubes in a hurry, handsome''??\n",
            " 2. A thoroughly ingratiating company it is fun to show your dog, he will feel it and give you a good performance!!\n",
            " 3. He rolled over and tried to shut out the noise, now much louder.\n",
            " 4. `` well, no'', herr schaffner said.\n",
            " 5. There are now 162,400 miles of roads and 106,500 miles of supplemental foot and horse trails.\n",
            " 6. That is, they are free from the necessity of manipulating objects;;\n",
            " 7. There was no close examination of his clothes for bloodstains, and other property or rights by purchase, license, lease, or donation;;\n",
            " 8. Water rationing will be difficult and should be planned carefully.\n",
            " 9. Water rationing will be difficult and should be planned carefully.\n",
            "10. He saw the suitcase, which julia was holding.\n",
            "\n",
            "======================================================================\n",
            "Temperature = 5.0\n",
            "======================================================================\n",
            "\n",
            " 1. The genuinely interesting question, then, becomes: what factors determine the degree of realism or distortion in conventional images of jews??\n",
            " 2. China never tried to shut out the noise, now much louder.\n",
            " 3. There are now 162,400 miles of roads and 106,500 miles of roads and 106,500 miles of roads and 106,500 miles of supplemental foot and horse trails.\n",
            " 4. Acquire secret processes, technical data, inventions, patent applications, patents, licenses, land and interests in land( including water rights), plants and facilities, and when the final curtain falls you may suddenly realize that you have been sitting with a broad grin\n",
            " 5. Acquire secret processes, technical data, inventions, patent applications, patents, licenses, land and interests in land( including water rights), plants and facilities, and when the final curtain falls you may suddenly realize that you have been sitting with a broad grin\n",
            " 6. Little is known of the human than any other presently known species.\n",
            " 7. In the way of unity.\n",
            " 8. Cholesterol, the rev. mr. brandt suggested the vision of 8,000 new assemblies of God churches in the church today stands in the way of unity.\n",
            " 9. A major aim of the behavior pattern of gaseous masses.\n",
            "10. Theories of the synthetic mechanisms for formation of thyroglobulin.\n",
            "\n",
            "======================================================================\n",
            "SELECTING MOST REALISTIC SENTENCE\n",
            "======================================================================\n",
            "a2a = 'Water rationing will be difficult and should be planned carefully.'\n"
          ]
        }
      ],
      "source": [
        "# Your code here (add as many cells as you need)\n",
        "\n",
        "import math\n",
        "import numpy as np\n",
        "import random\n",
        "\n",
        "def sample_with_temperature(log_prob_dict, temperature=1.0):\n",
        "    \"\"\"\n",
        "    Sample a word from log probability distribution with temperature scaling.\n",
        "\n",
        "    Args:\n",
        "        log_prob_dict: Dictionary mapping words to log probabilities\n",
        "        temperature: Controls randomness (lower = more deterministic, higher = more random)\n",
        "\n",
        "    Returns:\n",
        "        Sampled word\n",
        "    \"\"\"\n",
        "    words = list(log_prob_dict.keys())\n",
        "    log_probs = np.array(list(log_prob_dict.values()))\n",
        "\n",
        "    scaled_log_probs = log_probs / temperature\n",
        "\n",
        "    max_log_prob = np.max(scaled_log_probs)\n",
        "    exp_probs = np.exp(scaled_log_probs - max_log_prob)\n",
        "    probs = exp_probs / np.sum(exp_probs)\n",
        "\n",
        "    word = np.random.choice(words, p=probs)\n",
        "    return word\n",
        "\n",
        "\n",
        "def generate_sentence_with_backoff(get_next_word, max_length=50, temperature=1.0, n_max=3):\n",
        "    \"\"\"\n",
        "    Generate a sentence using N-gram PLM with backoff strategy.\n",
        "\n",
        "    Strategy:\n",
        "    1. Cold Start: Start with what context you have (bigrams initially)\n",
        "    2. Backoff: If no N-gram found, try N-1, N-2, etc. until you find one\n",
        "\n",
        "    Args:\n",
        "        get_next_word: PLM dictionary {context_tuple: {word: log_prob}}\n",
        "        max_length: Maximum sentence length (safety limit)\n",
        "        temperature: Temperature for sampling\n",
        "        n_max: Maximum N to use (3 for trigrams)\n",
        "\n",
        "    Returns:\n",
        "        List of tokens (including <s> and </s>)\n",
        "    \"\"\"\n",
        "    sentence = ['<s>']\n",
        "\n",
        "    for step in range(max_length):\n",
        "        current_position = len(sentence)\n",
        "\n",
        "        next_word = None\n",
        "\n",
        "        for n in range(min(n_max - 1, current_position), 0, -1):\n",
        "            context = tuple(sentence[-n:])\n",
        "\n",
        "            if context in get_next_word:\n",
        "                next_word = sample_with_temperature(get_next_word[context], temperature)\n",
        "                break\n",
        "\n",
        "        if next_word is None:\n",
        "            print(f\"Warning: No context found for {sentence}. Breaking.\")\n",
        "            next_word = '</s>'\n",
        "\n",
        "        sentence.append(next_word)\n",
        "\n",
        "        if next_word == '</s>':\n",
        "            break\n",
        "\n",
        "    if sentence[-1] != '</s>':\n",
        "        sentence.append('</s>')\n",
        "\n",
        "    return sentence\n",
        "\n",
        "\n",
        "def run_temperature_experiment(get_next_word, temperature, num_sentences=10):\n",
        "    \"\"\"\n",
        "    Generate sentences with a given temperature and print them.\n",
        "\n",
        "    Args:\n",
        "        get_next_word: PLM dictionary\n",
        "        temperature: Temperature value\n",
        "        num_sentences: Number of sentences to generate\n",
        "\n",
        "    Returns:\n",
        "        List of generated sentences (as token lists)\n",
        "    \"\"\"\n",
        "    print(f\"\\n{'='*70}\")\n",
        "    print(f\"Temperature = {temperature}\")\n",
        "    print(f\"{'='*70}\\n\")\n",
        "\n",
        "    generated_sentences = []\n",
        "\n",
        "    for i in range(num_sentences):\n",
        "        sentence_tokens = generate_sentence_with_backoff(\n",
        "            get_next_word,\n",
        "            max_length=50,\n",
        "            temperature=temperature,\n",
        "            n_max=3\n",
        "        )\n",
        "        generated_sentences.append(sentence_tokens)\n",
        "\n",
        "        print(f\"{i+1:2d}. \", end='')\n",
        "        print_sentence(sentence_tokens)\n",
        "\n",
        "    return generated_sentences\n",
        "\n",
        "\n",
        "print(\"=\"*70)\n",
        "print(\"SENTENCE GENERATION WITH BACKOFF STRATEGY\")\n",
        "print(\"=\"*70)\n",
        "print(\"\\nNote: Make sure 'get_next_word' PLM is already built from Problem 2!\")\n",
        "print(\"      And that 'print_sentence' function is available.\")\n",
        "print()\n",
        "\n",
        "np.random.seed(42)\n",
        "random.seed(42)\n",
        "\n",
        "sentences_temp_02 = run_temperature_experiment(get_next_word, temperature=0.2, num_sentences=10)\n",
        "\n",
        "sentences_temp_10 = run_temperature_experiment(get_next_word, temperature=1.0, num_sentences=10)\n",
        "\n",
        "sentences_temp_50 = run_temperature_experiment(get_next_word, temperature=5.0, num_sentences=10)\n",
        "\n",
        "\n",
        "print(\"\\n\" + \"=\"*70)\n",
        "print(\"SELECTING MOST REALISTIC SENTENCE\")\n",
        "print(\"=\"*70)\n",
        "\n",
        "all_sentences = sentences_temp_02 + sentences_temp_10 + sentences_temp_50\n",
        "\n",
        "\n",
        "most_realistic_idx = 7\n",
        "a2a = print_sentence(sentences_temp_10[most_realistic_idx], do_print=False)\n",
        "print(f\"a2a = '{a2a}'\")\n"
      ]
    },
    {
      "cell_type": "markdown",
      "metadata": {
        "id": "MN8Px3RyY7nG"
      },
      "source": [
        "### Graded Questions:\n",
        "\n",
        "#### Part 2A: In the next cell, set `a2a` to the *most realistic sentence* generated (your call!). Use `print_sentence(..., do_print=False)`."
      ]
    },
    {
      "cell_type": "code",
      "execution_count": 326,
      "metadata": {
        "id": "xGFZA6jUY7nG"
      },
      "outputs": [],
      "source": [
        "# Your answer here\n",
        "\n",
        "a2a = 'Water rationing will be difficult and should be planned carefully.'"
      ]
    },
    {
      "cell_type": "code",
      "execution_count": 327,
      "metadata": {
        "colab": {
          "base_uri": "https://localhost:8080/"
        },
        "id": "tmhdi5hiY7nG",
        "outputId": "635c6c2e-c557-44ee-d1fe-7733eac869a5"
      },
      "outputs": [
        {
          "output_type": "stream",
          "name": "stdout",
          "text": [
            "a2a = Water rationing will be difficult and should be planned carefully.\n"
          ]
        }
      ],
      "source": [
        "# Graded Answer\n",
        "# DO NOT change this cell in any way and do not make any other assignments to variable a2a in this problem\n",
        "\n",
        "print(f'a2a = {a2a}')\n"
      ]
    },
    {
      "cell_type": "markdown",
      "metadata": {
        "id": "nnRSAC_dY7nG"
      },
      "source": [
        "#### Part 2B:  Describe in a few sentences what you observed with the different temperature settings (and try more if you wish!). Which seemed to produce the most realistic sentences?\n",
        "\n",
        "Your answer here: When temperature = 0.2 sentences tended to be repetitive and mostly coherent, but awkward. When temperature = 1.0, there was much variation and a coherence. Some sentences were a bit awkward, but this temperature overall produced the most readable sentences. Lastly, when temperature = 5.0, the sentences were diverse but less coherent and realistic.\n",
        "\n"
      ]
    },
    {
      "cell_type": "markdown",
      "metadata": {
        "id": "TFrfPtsfY7nG"
      },
      "source": [
        "## Problem Three:  Measuring the Quality of Sentences:  Average Log Probability and Perplexity\n",
        "\n",
        "The probabilities involved when we start to calculate the probability of longer token sequences are extremely small, and underflow is common\n",
        "for a large corpus. Therefore we calculate all probabilities in **log space** (see **Appendix Two** for an explanation).\n",
        "\n",
        "Basically, the quality metric for generated sentences is likelihood: If a sentence is more probable, it is better.\n",
        "However, this metric is biased towards short sentences, since we multiply the probabilities of each word,\n",
        "and long sentences end up being very unlikely. But natural language does not behave this way!\n",
        "\n",
        "Therefore, we will remove the length from the calculation using the following measures:\n",
        "\n",
        "**Average of Log Probabilities (ALP)** is a length-agnostic measure of sentence probability. For trigrams:\n",
        "\n",
        "Let the tokenized sentence be $[t_1,\\ldots,t_n]$ with $t_1$ = `<s>` and $t_n$ = `</s>`.\n",
        "\n",
        "\n",
        "$$\n",
        "\\text{ALP}([t_1, t_2, \\dots, t_n])\n",
        "\\ =\\ \\frac{\\log P(t_2 \\mid t_1) + \\log P(t_3 \\mid t_1, t_2) + \\dots + \\log P(t_n \\mid t_{n-2}, t_{n-1})}{n-1}\n",
        "$$\n",
        "\n",
        "**Notes:**\n",
        "- We don't include the first token because it is always present and hence not predicted; think of\n",
        "it as a prompt which gets the sentence going!\n",
        "- To account for backoff, simply use the log probability of the bigram in those cases instead of the trigram.\n",
        "- ALP is in $(-\\infty \\ldots 0.0]$ and larger is better.  It grows more negative as the model performs worse.\n",
        "\n",
        "\n",
        "**Perplexity** is the most common metric in NLP: it rescales the ALP into a more intuitive, positive scale:\n",
        "\n",
        "> Perplexity = np.exp( - ALP ).     \n",
        "\n",
        "Perplexities are $\\ge 1.0$ and smaller is better.   A larger perplexity means the model is “more perplexed,” i.e., on average it is choosing among more equally likely alternatives.\n",
        "\n",
        "Because the exponential is monotonic, minimizing perplexity is exactly the same as maximizing average log probability—so either metric may be used for ranking models, but perplexity is more commonly used by the NLP community.\n",
        "\n",
        "### Before You Start\n",
        "\n",
        "You can compute ALP during generation by carrying **state** along with the partial sentence.\n",
        "Instead of storing:\n",
        "\n",
        "> tokens_so_far = [ `<s>`, $t_2$, $t_3$, … ]\n",
        "\n",
        "store a **pair**:\n",
        "\n",
        "> ( tokens_so_far, sum_log_probs)\n",
        "\n",
        "where\n",
        "\n",
        "* **sum_log_probs** = $( \\log P(t_2\\mid t_1) + \\log P(t_3\\mid t_1,t_2) + \\cdots )$\n",
        "\n",
        "In the case that backoff was used to generate some $t_k$, you just use $\\log P(t_{k}\\mid t_{k-1})$\n",
        "\n",
        "Then your loop is:\n",
        "\n",
        "1. Start with tokens = `['<s>']` and `sum_log_probs = 0.0`.\n",
        "2. Get the left context (trigram preferred; back off to bigram if needed).\n",
        "3. **Sample** the next token using temperature, but **score** with the model’s **true** log-prob for that token (un-tempered): update `sum_log_probs += log P(next|context)`.\n",
        "4. Append the token; if it is `</s>`, stop, else repeat froms step 2.\n",
        "5. Calculate the perplexity of the completed sentence:\n",
        "- Divide the running sum of log probabilities by `len(tokens)-1` to get the final ALP.\n",
        "- Calculate `PP = np.exp(-ALP)` and return the pair `( completed-list-of-tokens, PP)` as the generated sentence.\n",
        "\n",
        "\n",
        "\n",
        "### To Do\n",
        "\n",
        "* Modify your `get_next_word` and sentence generator method to maintain `(tokens, sum_log)` as above and return `(tokens, Perplexity)`.\n",
        "- Perform 3 experiments with temperature set at 0.2, 1.0, and 5.0 **with the full dataset if possible**:\n",
        "    - Generate 10 sentences for each temperature, print them out using `print_sentence` and observe whatever differences you can, comparing them with the perplexity.\n",
        "* Answer the graded questions.\n"
      ]
    },
    {
      "cell_type": "code",
      "source": [
        "# Your code here: add as many cells as you wish\n",
        "import math\n",
        "import numpy as np\n",
        "import random\n",
        "\n",
        "def sample_with_temperature_and_score(log_prob_dict, temperature=1.0):\n",
        "    words = list(log_prob_dict.keys())\n",
        "    log_probs = np.array(list(log_prob_dict.values()))\n",
        "    scaled_log_probs = log_probs / temperature\n",
        "    max_log_prob = np.max(scaled_log_probs)\n",
        "    exp_probs = np.exp(scaled_log_probs - max_log_prob)\n",
        "    probs = exp_probs / np.sum(exp_probs)\n",
        "    sampled_word = np.random.choice(words, p=probs)\n",
        "    word_idx = words.index(sampled_word)\n",
        "    true_log_prob = log_probs[word_idx]\n",
        "    return sampled_word, true_log_prob\n",
        "\n",
        "def generate_sentence_with_perplexity(get_next_word, max_length=50, temperature=1.0, n_max=3):\n",
        "    tokens = ['<s>']\n",
        "    sum_log_probs = 0.0\n",
        "    for step in range(max_length):\n",
        "        current_position = len(tokens)\n",
        "        next_word = None\n",
        "        true_log_prob = None\n",
        "        for n in range(min(n_max - 1, current_position), 0, -1):\n",
        "            context = tuple(tokens[-n:])\n",
        "            if context in get_next_word:\n",
        "                next_word, true_log_prob = sample_with_temperature_and_score(get_next_word[context], temperature)\n",
        "                break\n",
        "        if next_word is None:\n",
        "            next_word = '</s>'\n",
        "            true_log_prob = 0.0\n",
        "        sum_log_probs += true_log_prob\n",
        "        tokens.append(next_word)\n",
        "        if next_word == '</s>':\n",
        "            break\n",
        "    if tokens[-1] != '</s>':\n",
        "        tokens.append('</s>')\n",
        "    n = len(tokens)\n",
        "    alp = sum_log_probs / (n - 1) if n > 1 else 0.0\n",
        "    perplexity = np.exp(-alp)\n",
        "    return tokens, perplexity\n",
        "\n",
        "def run_perplexity_experiment(get_next_word, temperature, num_sentences=10):\n",
        "    print(f\"\\n{'='*70}\\nTemperature = {temperature}\\n{'='*70}\\n\")\n",
        "    results = []\n",
        "    for i in range(num_sentences):\n",
        "        tokens, perplexity = generate_sentence_with_perplexity(get_next_word, max_length=50, temperature=temperature, n_max=3)\n",
        "        sentence_str = print_sentence(tokens, do_print=False)\n",
        "        results.append((tokens, perplexity, sentence_str))\n",
        "        print(f\"{i+1:2d}. [PP={perplexity:7.2f}] {sentence_str}\")\n",
        "    return results\n",
        "\n",
        "np.random.seed(42)\n",
        "random.seed(42)\n",
        "\n",
        "all_results = []\n",
        "results_temp_02 = run_perplexity_experiment(get_next_word, temperature=0.2, num_sentences=10)\n",
        "all_results.extend(results_temp_02)\n",
        "results_temp_10 = run_perplexity_experiment(get_next_word, temperature=1.0, num_sentences=10)\n",
        "all_results.extend(results_temp_10)\n",
        "results_temp_50 = run_perplexity_experiment(get_next_word, temperature=5.0, num_sentences=10)\n",
        "all_results.extend(results_temp_50)\n",
        "\n",
        "sorted_results = sorted(all_results, key=lambda x: x[1])\n",
        "best_tokens, best_perplexity, best_sentence = sorted_results[0]\n",
        "\n",
        "a3a = best_sentence\n",
        "a3b = best_perplexity\n",
        "\n",
        "print(f\"a3a = '{a3a}'\")\n",
        "print(f\"a3b = {a3b:.4f}\")\n",
        "\n",
        "\n"
      ],
      "metadata": {
        "colab": {
          "base_uri": "https://localhost:8080/"
        },
        "id": "gOfDx8lgu2wp",
        "outputId": "9d5e744d-84fc-4962-9efd-2d0c83676860"
      },
      "execution_count": 328,
      "outputs": [
        {
          "output_type": "stream",
          "name": "stdout",
          "text": [
            "\n",
            "======================================================================\n",
            "Temperature = 0.2\n",
            "======================================================================\n",
            "\n",
            " 1. [PP=   1.36] He saw the suitcase, which julia was holding.\n",
            " 2. [PP=   1.14] The genuinely interesting question, then, becomes: what factors determine the degree of realism or distortion in conventional images of jews??\n",
            " 3. [PP=   1.36] He saw the suitcase, which julia was holding.\n",
            " 4. [PP=   1.23] `` but you ca n't ride into the ring because it is softened by the saltbush and the bluebush, has a peaceful quality, the rev. mr. brandt suggested the vision of 8,000 new assemblies of God churches in the church today stands in the way of unity\n",
            " 5. [PP=   1.39] He let her tell him all about the church today stands in the church today stands in the next 10 years.\n",
            " 6. [PP=   1.33] There are ice cubes in a container at the far end and in another by the office.\n",
            " 7. [PP=   1.19] The president knew that a confrontation with mr. khrushchev sooner or later probably was inevitable and even desirable.\n",
            " 8. [PP=   1.26] He rolled over and tried to integrate tibet by extirpating the people's religion and institutions.\n",
            " 9. [PP=   1.54] Theories of the human than any other presently known species.\n",
            "10. [PP=   1.36] He saw the suitcase, which julia was holding.\n",
            "\n",
            "======================================================================\n",
            "Temperature = 1.0\n",
            "======================================================================\n",
            "\n",
            " 1. [PP=   1.23] He let her tell him all about the church today stands in the forest development road and trail system, there are ice cubes in a hurry, handsome''??\n",
            " 2. [PP=   1.21] A thoroughly ingratiating company it is fun to show your dog, he will feel it and give you a good performance!!\n",
            " 3. [PP=   1.29] He rolled over and tried to shut out the noise, now much louder.\n",
            " 4. [PP=   1.33] `` well, no'', herr schaffner said.\n",
            " 5. [PP=   1.36] There are now 162,400 miles of roads and 106,500 miles of supplemental foot and horse trails.\n",
            " 6. [PP=   1.38] That is, they are free from the necessity of manipulating objects;;\n",
            " 7. [PP=   1.17] There was no close examination of his clothes for bloodstains, and other property or rights by purchase, license, lease, or donation;;\n",
            " 8. [PP=   1.41] Water rationing will be difficult and should be planned carefully.\n",
            " 9. [PP=   1.41] Water rationing will be difficult and should be planned carefully.\n",
            "10. [PP=   1.36] He saw the suitcase, which julia was holding.\n",
            "\n",
            "======================================================================\n",
            "Temperature = 5.0\n",
            "======================================================================\n",
            "\n",
            " 1. [PP=   1.14] The genuinely interesting question, then, becomes: what factors determine the degree of realism or distortion in conventional images of jews??\n",
            " 2. [PP=   1.34] China never tried to shut out the noise, now much louder.\n",
            " 3. [PP=   1.28] There are now 162,400 miles of roads and 106,500 miles of roads and 106,500 miles of roads and 106,500 miles of supplemental foot and horse trails.\n",
            " 4. [PP=   1.09] Acquire secret processes, technical data, inventions, patent applications, patents, licenses, land and interests in land( including water rights), plants and facilities, and when the final curtain falls you may suddenly realize that you have been sitting with a broad grin\n",
            " 5. [PP=   1.09] Acquire secret processes, technical data, inventions, patent applications, patents, licenses, land and interests in land( including water rights), plants and facilities, and when the final curtain falls you may suddenly realize that you have been sitting with a broad grin\n",
            " 6. [PP=   1.45] Little is known of the human than any other presently known species.\n",
            " 7. [PP=   1.98] In the way of unity.\n",
            " 8. [PP=   1.33] Cholesterol, the rev. mr. brandt suggested the vision of 8,000 new assemblies of God churches in the church today stands in the way of unity.\n",
            " 9. [PP=   1.63] A major aim of the behavior pattern of gaseous masses.\n",
            "10. [PP=   1.60] Theories of the synthetic mechanisms for formation of thyroglobulin.\n",
            "a3a = 'Acquire secret processes, technical data, inventions, patent applications, patents, licenses, land and interests in land( including water rights), plants and facilities, and when the final curtain falls you may suddenly realize that you have been sitting with a broad grin'\n",
            "a3b = 1.0922\n"
          ]
        }
      ]
    },
    {
      "cell_type": "markdown",
      "metadata": {
        "id": "Sgh-cHmJY7nH"
      },
      "source": [
        "### Graded Questions:\n",
        "\n",
        "#### Part 3A: In the next cell, set `a3a` to the sentence with the smallest perplexity. Use `print_sentence(..., do_print=False)`."
      ]
    },
    {
      "cell_type": "code",
      "execution_count": 329,
      "metadata": {
        "id": "PkLhM5zlY7nH"
      },
      "outputs": [],
      "source": [
        "# Your answer here\n",
        "\n",
        "a3a = 'Acquire secret processes, technical data, inventions, patent applications, patents, licenses, land and interests in land( including water rights), plants and facilities, and when the final curtain falls you may suddenly realize that you have been sitting with a broad grin'\n"
      ]
    },
    {
      "cell_type": "code",
      "execution_count": 330,
      "metadata": {
        "colab": {
          "base_uri": "https://localhost:8080/"
        },
        "id": "yTYsZQnRY7nH",
        "outputId": "d276fbc8-9671-466d-8744-a7c0f058cdca"
      },
      "outputs": [
        {
          "output_type": "stream",
          "name": "stdout",
          "text": [
            "a3a = Acquire secret processes, technical data, inventions, patent applications, patents, licenses, land and interests in land( including water rights), plants and facilities, and when the final curtain falls you may suddenly realize that you have been sitting with a broad grin\n"
          ]
        }
      ],
      "source": [
        "# Graded Answer\n",
        "# DO NOT change this cell in any way and do not make any other assignments to variable a3a\n",
        "print(f'a3a = {a3a}')\n"
      ]
    },
    {
      "cell_type": "markdown",
      "metadata": {
        "id": "lqanpJS0Y7nH"
      },
      "source": [
        "#### Part 3B:  Set `a3b` to the perplexity for the sentence you provided in Part 3A.\n"
      ]
    },
    {
      "cell_type": "code",
      "execution_count": 331,
      "metadata": {
        "id": "FFkxo6x6Y7nH"
      },
      "outputs": [],
      "source": [
        "# Your answer here\n",
        "\n",
        "a3b = 1.0922"
      ]
    },
    {
      "cell_type": "code",
      "execution_count": 332,
      "metadata": {
        "colab": {
          "base_uri": "https://localhost:8080/"
        },
        "id": "RfYTVMtSY7nH",
        "outputId": "85db6756-6de0-4844-c626-dd51833b000b"
      },
      "outputs": [
        {
          "output_type": "stream",
          "name": "stdout",
          "text": [
            "a3b = 1.0922\n"
          ]
        }
      ],
      "source": [
        "# Graded Answer\n",
        "# DO NOT change this cell in any way and do not make any other assignments to variable a1 in this problem\n",
        "\n",
        "print(f'a3b = {a3b}')\n"
      ]
    },
    {
      "cell_type": "markdown",
      "metadata": {
        "id": "blU0UeNvY7nH"
      },
      "source": [
        "#### Part 3C:  Describe in a few sentences what you observed with the different temperature settings (and try more if you wish!). Which produces the sentences with the best perplexity (you might want to take the average of all 10!).\n",
        "\n",
        "Your answer here: When temperature = 0.2, the perplexity values were low which indicated a high confidence. A lot of the sentences were repetitive and predictable. When temperature = 1.0, the sentences were more varied and perplexity values increased slightly indicating a little more uncertainty. The sentences were creative but also lacked some coherence. Lastly, when the temperature = 5.0, the perplexity was high on average (showing uncertainty) and the sentences were longer and more complex with little realism.\n",
        "\n"
      ]
    },
    {
      "cell_type": "markdown",
      "metadata": {
        "id": "TjgfGD-gY7nH"
      },
      "source": [
        "## Problem Four:  Beam Search\n",
        "\n",
        "For our final problem, we'll implement a common technique for searching for sentences with low perplexity.\n",
        "\n",
        "**Beam search** is a pragmatic middle ground between **greedy decoding** (pick the single best next word each step) and **exhaustive search** (try all sequences).\n",
        "\n",
        "![Screenshot 2025-10-04 at 12.12.48 PM.png](attachment:224d4777-a5b9-4360-9cc3-5651367faeb0.png)\n",
        "\n",
        "The basic idea is reasonably simple:\n",
        "\n",
        "Maintain a list of at most **B** incomplete sentences, sorted in **decreasing order of their ALP (best at the top)**; you'll need to calculate this during the sort, or perhaps store a triple\n",
        "> (list-of-tokens, sum-of-log-probs, ALP-so-far)\n",
        "\n",
        "where\n",
        "> ALP-so-far =sum-of-log-probs/(len(list-of-tokens)-1)\n",
        "\n",
        "**In detail:**\n",
        "\n",
        "Initialize a priority queue `PQ = [ ['<s>'],0.0] ]`\n",
        "\n",
        "1. In each loop:\n",
        "    - Generate **C** continuations of each of the partial sentences in the queue **PQ** (optional but useful: remove duplicates)\n",
        "    - Remove any completed sentences, calculate their perplexity and store them in a separate list `Finished`.\n",
        "    - Sort the list of remaining continuations and delete all but the best **B** candidates.\n",
        "    - Replace **PQ** with this list of new candidates.\n",
        "3. Repeat from step 1 until you get 10 finished sentences in `Finished` or simply iterate 100 times.  \n",
        "4. Sort the list `Finished` in increasing order of perplexity and print it out.\n",
        "\n",
        "  This preserves multiple promising continuations (unlike greedy), but avoids the combinatorial blow-up of exhaustive search. Using **log-probs** makes scoring stable; using a **length-normalized** score (ALP) prevents the search from favoring short fragments. Beam width (B) controls the trade-off: larger (B) explores more but costs more time and can still prune good paths too early. Continuation width (C) controls how widely you search possible continuations, and uses temperature.\n",
        "\n",
        "**ToDo:**\n",
        "\n",
        "- Implement beam search as described, using $B=C=5$.\n",
        "- Experiment with temperatures of 0.2, 1.0, and 5.0 as before.\n",
        "- Print out your finished sentences with perplexities.\n",
        "- Answer the graded questions."
      ]
    },
    {
      "cell_type": "code",
      "source": [
        "# Your code here; add as many cells as you wish\n",
        "import numpy as np\n",
        "import random\n",
        "\n",
        "def beam_search(get_next_word, beam_width=5, cont_width=5, n_max=3, max_length=50, temperature=1.0, max_finished=10):\n",
        "    np.random.seed(42)\n",
        "    random.seed(42)\n",
        "    PQ = [(['<s>'], 0.0)]\n",
        "    Finished = []\n",
        "\n",
        "    while PQ and len(Finished) < max_finished:\n",
        "        all_continuations = []\n",
        "        for tokens, sum_log in PQ:\n",
        "            current_position = len(tokens)\n",
        "            next_contexts = []\n",
        "            for n in range(min(n_max - 1, current_position), 0, -1):\n",
        "                context = tuple(tokens[-n:])\n",
        "                if context in get_next_word:\n",
        "                    sorted_words = sorted(get_next_word[context].items(), key=lambda x: -x[1])\n",
        "                    next_contexts = sorted_words[:cont_width]\n",
        "                    break\n",
        "            if not next_contexts:\n",
        "                next_contexts = [('</s>', 0.0)]\n",
        "            for word, logp in next_contexts:\n",
        "                new_tokens = tokens + [word]\n",
        "                new_sum_log = sum_log + logp\n",
        "                alp = new_sum_log / (len(new_tokens) - 1)\n",
        "                if word == '</s>':\n",
        "                    Finished.append((new_tokens, np.exp(-alp)))\n",
        "                else:\n",
        "                    all_continuations.append((new_tokens, new_sum_log, alp))\n",
        "        all_continuations.sort(key=lambda x: -x[2])\n",
        "        PQ = [(toks, s) for toks, s, a in all_continuations[:beam_width]]\n",
        "        if not PQ:\n",
        "            break\n",
        "    Finished.sort(key=lambda x: x[1])\n",
        "    return Finished\n",
        "\n",
        "temperatures = [0.2, 1.0, 5.0]\n",
        "all_beam_results = {}\n",
        "\n",
        "for temp in temperatures:\n",
        "    finished = beam_search(get_next_word, beam_width=5, cont_width=5, temperature=temp)\n",
        "    all_beam_results[temp] = finished\n",
        "    print(f\"\\n{'='*70}\\nTemperature = {temp}\\n{'='*70}\")\n",
        "    for i, (tokens, pp) in enumerate(finished, 1):\n",
        "        sentence = print_sentence(tokens, do_print=False)\n",
        "        print(f\"{i:2d}. [PP={pp:.4f}] {sentence}\")\n",
        "\n",
        "best_tokens, a4b = all_beam_results[1.0][0]\n",
        "a4a = print_sentence(best_tokens, do_print=False)\n",
        "print(f\"\\nBest Beam Search Sentence: {a4a}\")\n",
        "print(f\"Perplexity: {a4b:.4f}\")\n",
        "\n"
      ],
      "metadata": {
        "colab": {
          "base_uri": "https://localhost:8080/"
        },
        "id": "mkgpubtHyGl7",
        "outputId": "a5126d1b-cb50-4316-ba1d-8ccddaccfb4a"
      },
      "execution_count": 333,
      "outputs": [
        {
          "output_type": "stream",
          "name": "stdout",
          "text": [
            "\n",
            "======================================================================\n",
            "Temperature = 0.2\n",
            "======================================================================\n",
            " 1. [PP=1.1868] `` but you ca n't ride into the ring because it is fun to show your dog, he will feel it and give you a good performance!!\n",
            " 2. [PP=1.1891] `` but you ca n't ride into the ring because it is suggested that in many respects the horse lung may be anatomically more comparable to that of the behavior pattern of population masses were compared to scientific discoveries concerning the motion- pattern of gaseous masses.\n",
            " 3. [PP=1.1945] `` but you ca n't ride into the ring because it is suggested that in many respects the horse lung may be anatomically more comparable to that of the elders except three voted for death, but a majority of the human than any other presently known species.\n",
            " 4. [PP=1.2050] `` but you ca n't ride into the ring because it is suggested that in many respects the horse lung may be anatomically more comparable to that of the human than any other presently known species.\n",
            " 5. [PP=1.2144] `` but you ca n't ride into the ring because it is suggested that in many respects the horse lung may be anatomically more comparable to that of the council will be difficult and should be planned carefully.\n",
            " 6. [PP=1.3023] `` but you ca n't ride into the ring because it is, they are free from the necessity of manipulating objects;;\n",
            " 7. [PP=1.3277] `` well, no'', herr schaffner said.\n",
            " 8. [PP=1.3839] `` but you ca n't ride into the ring because it is softened by the office.\n",
            " 9. [PP=1.4066] `` but you ca n't ride into the ferry.\n",
            "10. [PP=1.4509] He let her tell him all about the church.\n",
            "\n",
            "======================================================================\n",
            "Temperature = 1.0\n",
            "======================================================================\n",
            " 1. [PP=1.1868] `` but you ca n't ride into the ring because it is fun to show your dog, he will feel it and give you a good performance!!\n",
            " 2. [PP=1.1891] `` but you ca n't ride into the ring because it is suggested that in many respects the horse lung may be anatomically more comparable to that of the behavior pattern of population masses were compared to scientific discoveries concerning the motion- pattern of gaseous masses.\n",
            " 3. [PP=1.1945] `` but you ca n't ride into the ring because it is suggested that in many respects the horse lung may be anatomically more comparable to that of the elders except three voted for death, but a majority of the human than any other presently known species.\n",
            " 4. [PP=1.2050] `` but you ca n't ride into the ring because it is suggested that in many respects the horse lung may be anatomically more comparable to that of the human than any other presently known species.\n",
            " 5. [PP=1.2144] `` but you ca n't ride into the ring because it is suggested that in many respects the horse lung may be anatomically more comparable to that of the council will be difficult and should be planned carefully.\n",
            " 6. [PP=1.3023] `` but you ca n't ride into the ring because it is, they are free from the necessity of manipulating objects;;\n",
            " 7. [PP=1.3277] `` well, no'', herr schaffner said.\n",
            " 8. [PP=1.3839] `` but you ca n't ride into the ring because it is softened by the office.\n",
            " 9. [PP=1.4066] `` but you ca n't ride into the ferry.\n",
            "10. [PP=1.4509] He let her tell him all about the church.\n",
            "\n",
            "======================================================================\n",
            "Temperature = 5.0\n",
            "======================================================================\n",
            " 1. [PP=1.1868] `` but you ca n't ride into the ring because it is fun to show your dog, he will feel it and give you a good performance!!\n",
            " 2. [PP=1.1891] `` but you ca n't ride into the ring because it is suggested that in many respects the horse lung may be anatomically more comparable to that of the behavior pattern of population masses were compared to scientific discoveries concerning the motion- pattern of gaseous masses.\n",
            " 3. [PP=1.1945] `` but you ca n't ride into the ring because it is suggested that in many respects the horse lung may be anatomically more comparable to that of the elders except three voted for death, but a majority of the human than any other presently known species.\n",
            " 4. [PP=1.2050] `` but you ca n't ride into the ring because it is suggested that in many respects the horse lung may be anatomically more comparable to that of the human than any other presently known species.\n",
            " 5. [PP=1.2144] `` but you ca n't ride into the ring because it is suggested that in many respects the horse lung may be anatomically more comparable to that of the council will be difficult and should be planned carefully.\n",
            " 6. [PP=1.3023] `` but you ca n't ride into the ring because it is, they are free from the necessity of manipulating objects;;\n",
            " 7. [PP=1.3277] `` well, no'', herr schaffner said.\n",
            " 8. [PP=1.3839] `` but you ca n't ride into the ring because it is softened by the office.\n",
            " 9. [PP=1.4066] `` but you ca n't ride into the ferry.\n",
            "10. [PP=1.4509] He let her tell him all about the church.\n",
            "\n",
            "Best Beam Search Sentence: `` but you ca n't ride into the ring because it is fun to show your dog, he will feel it and give you a good performance!!\n",
            "Perplexity: 1.1868\n"
          ]
        }
      ]
    },
    {
      "cell_type": "markdown",
      "metadata": {
        "id": "7_F7dOJrY7nH"
      },
      "source": [
        "### Graded Questions:\n",
        "\n",
        "#### Part 4A: In the next cell, set `a4a` to the sentence with the smallest perplexity generated by beam search. Use `print_sentence(..., do_print=False)`."
      ]
    },
    {
      "cell_type": "code",
      "execution_count": 334,
      "metadata": {
        "id": "5T8xt8u4Y7nH"
      },
      "outputs": [],
      "source": [
        "# Your answer here\n",
        "\n",
        "a4a = \"`` but you ca n't ride into the ring because it is fun to show your dog, he will feel it and give you a good performance!!\""
      ]
    },
    {
      "cell_type": "code",
      "execution_count": 335,
      "metadata": {
        "colab": {
          "base_uri": "https://localhost:8080/"
        },
        "id": "xGKRYXo9Y7nT",
        "outputId": "b870bb94-7188-4bc3-f8e7-47f22ca9f3c0"
      },
      "outputs": [
        {
          "output_type": "stream",
          "name": "stdout",
          "text": [
            "a4a = `` but you ca n't ride into the ring because it is fun to show your dog, he will feel it and give you a good performance!!\n"
          ]
        }
      ],
      "source": [
        "# Graded Answer\n",
        "# DO NOT change this cell in any way and do not make any other assignments to variable a3a\n",
        "print(f'a4a = {a4a}')\n"
      ]
    },
    {
      "cell_type": "markdown",
      "metadata": {
        "id": "FbpZT1oyY7nT"
      },
      "source": [
        "#### Part 4B:  Set `a4b` to the perplexity for the sentence you provided in Part 4A\n"
      ]
    },
    {
      "cell_type": "code",
      "execution_count": 336,
      "metadata": {
        "id": "lpplHxJhY7nT"
      },
      "outputs": [],
      "source": [
        "# Your answer here\n",
        "\n",
        "a4b = '1.1868'"
      ]
    },
    {
      "cell_type": "code",
      "execution_count": 337,
      "metadata": {
        "colab": {
          "base_uri": "https://localhost:8080/"
        },
        "id": "uJF7-C4xY7nU",
        "outputId": "1e07108b-fb4c-4091-e360-05378a1548fa"
      },
      "outputs": [
        {
          "output_type": "stream",
          "name": "stdout",
          "text": [
            "a4b = 1.1868\n"
          ]
        }
      ],
      "source": [
        "# Graded Answer\n",
        "# DO NOT change this cell in any way and do not make any other assignments to variable a4b in this problem\n",
        "\n",
        "print(f'a4b = {a4b}')\n"
      ]
    },
    {
      "cell_type": "markdown",
      "metadata": {
        "id": "HoFy259WY7nU"
      },
      "source": [
        "#### Part 4C:  Describe in a few sentences what you observed with the different temperature settings (and try more if you wish!). Which produces the sentences with the best perplexity (you might want to take the average of all 5!).\n",
        "\n",
        "Your answer here: When the temperature = 0.2, the sentences were highly repetitive especially with the phrase \"but you ca n't ride into the ring because it is\". This is not surprising since low temperatures lead to high probablity paths which beam search focuses on. When the temperature increases to 1.0 and 5.0, the phrase \"\"but you ca n't ride into the ring because it is\" is still repeating through each top statement. This indicates beam search is prioritizing high scoring paths without sampling randomness.\n",
        "\n"
      ]
    },
    {
      "cell_type": "markdown",
      "metadata": {
        "id": "1uQpBHxlY7nU"
      },
      "source": [
        "## Appendix One: The Brown Corpus\n",
        "\n",
        "The **Brown Corpus of Standard American English** was compiled at **Brown University** by W. Nelson Francis and Henry Kučera in 1961. It was the **first electronic, balanced corpus of English** ever created and contains about **one million words** drawn from **500 written texts** published in the United States in 1961.\n",
        "\n",
        "At the time, this was groundbreaking: instead of studying isolated examples, linguists and computer scientists could analyze the **statistical properties of language** across many genres. The Brown Corpus became a **benchmark dataset** in early computational linguistics, psycholinguistics, and later in natural language processing.\n",
        "\n",
        "### Genres in the Brown Corpus\n",
        "\n",
        "The 500 texts were divided evenly across **15 categories**, each representing a different register or style of writing:\n",
        "\n",
        "* **Press**: reportage, editorials, reviews\n",
        "* **General prose**: popular lore, belles lettres, essays\n",
        "* **Fiction**: adventure, romance, science fiction, mystery, humor\n",
        "* **Learned writing**: academic and scientific publications\n",
        "* **Religious writing**: sermons, expository texts\n",
        "* **Skills and hobbies**: manuals, do-it-yourself, gardening, sports writing\n",
        "* **Government documents**: official reports, public affairs writing\n",
        "* **Miscellaneous**: popularized non-fiction, biography\n",
        "\n",
        "Each category contributes about 2,000 sentences (roughly 80,000 words), ensuring a **balanced sample** of contemporary written English.\n",
        "\n",
        "### Examples of Source Texts\n",
        "\n",
        "While the Brown Corpus does not preserve full books in sequence, the selections were drawn from published works of the time. Examples include:\n",
        "\n",
        "* **Fiction**: pulp magazines, detective novels, romance stories, humorous fiction.\n",
        "* **Press**: articles from major U.S. newspapers and magazines such as *Time* and *Newsweek*.\n",
        "* **Religion**: sermons, Bible commentary, religious essays.\n",
        "* **Academic**: journal articles in history, sociology, psychology, and linguistics.\n",
        "* **Skills and hobbies**: popular magazines like *Popular Mechanics* and *Field & Stream*.\n",
        "\n",
        "The corpus thus reflects a **snapshot of American English in 1961**: how it was written in popular culture, journalism, science, religion, and government.\n",
        "\n",
        "### Why It Matters\n",
        "\n",
        "* **Historical importance**: the first large corpus, setting the stage for all later corpus linguistics.\n",
        "* **Balanced design**: unlike modern web scrapes (e.g., Wikipedia), Brown was carefully curated to capture a **cross-section of genres**.\n",
        "* **Still used today**: it remains a teaching resource for exploring **word frequencies, n-grams, Zipf’s law, and stylistic differences across genres**.\n",
        "\n",
        "### Categories in the Brown Corpus  \n",
        "\n",
        "The Brown Corpus is divided into 15 genres, each with about 80,000 words (for a total of ~1 million). This balance makes it useful for studying stylistic and lexical variation across English.  \n",
        "\n",
        "| Code | Category              | Description / Examples                                  |\n",
        "|------|-----------------------|---------------------------------------------------------|\n",
        "| A    | Press: Reportage      | Straight news reporting; newspaper and magazine articles |\n",
        "| B    | Press: Editorial      | Opinion pieces and editorials from newspapers/magazines |\n",
        "| C    | Press: Reviews        | Reviews of books, plays, music, films                   |\n",
        "| D    | Religion              | Sermons, religious commentary, Bible studies            |\n",
        "| E    | Skills & Hobbies      | How-to manuals, sports, leisure, do-it-yourself         |\n",
        "| F    | Popular Lore          | Popular science, cultural essays, lore                  |\n",
        "| G    | Belles Lettres        | Literary essays, non-fiction with artistic style        |\n",
        "| H    | Miscellaneous         | Biographies, memoirs, other non-fiction                 |\n",
        "| J    | Learned               | Academic and scientific writing                         |\n",
        "| K    | General Fiction       | Short stories and novels, general fiction               |\n",
        "| L    | Mystery & Detective   | Detective and crime fiction                             |\n",
        "| M    | Science Fiction       | Science fiction stories and novels                      |\n",
        "| N    | Adventure & Western   | Adventure stories, Westerns                             |\n",
        "| P    | Romance               | Romantic fiction                                        |\n",
        "| R    | Humor                 | Humorous fiction and essays                             |\n",
        "\n",
        "Together these categories provide a **snapshot of American English in 1961**, from journalism and government reports to pulp fiction and academic writing.  \n"
      ]
    },
    {
      "cell_type": "code",
      "execution_count": 338,
      "metadata": {
        "colab": {
          "base_uri": "https://localhost:8080/"
        },
        "id": "2n4_OsfaY7nU",
        "outputId": "d8c06898-272b-408b-e63d-b667bdf7e9a6"
      },
      "outputs": [
        {
          "output_type": "stream",
          "name": "stdout",
          "text": [
            "0.0\n",
            "-0.6931471805599453\n",
            "-1.0986122886681098\n",
            "-1.3862943611198906\n",
            "-4.605170185988091\n",
            "-23.025850929940457\n"
          ]
        }
      ],
      "source": [
        "for p in [1,1/2,1/3,1/4, 0.01, 1e-10]:\n",
        "          print(math.log(p))"
      ]
    },
    {
      "cell_type": "markdown",
      "metadata": {
        "id": "SiCXFEYPY7nU"
      },
      "source": [
        "## Appendix Two: Using Log-Probabilities in N-Gram Models\n",
        "\n",
        "When working with **n-gram language models**, we calculate the probability of a sentence by multiplying the conditional probabilities of each word:\n",
        "\n",
        "$$\n",
        "P(w_1, w_2, \\dots, w_n) = \\prod_{i=1}^n P(w_i \\mid \\text{context})\n",
        "$$\n",
        "\n",
        "### Do we really need logs for the Brown Corpus?\n",
        "\n",
        "In the Brown Corpus, the **longest sentence has 182 tokens**. That’s not very long compared to modern corpora, so you might think multiplying probabilities directly is fine. For example:\n",
        "\n",
        "* If the average conditional probability were around $0.1$, the longest Brown sentence has probability about\n",
        "  $$(0.1)^{182} = 10^{-182},$$\n",
        "  which is still representable in double precision (smallest positive $\\approx 10^{-324}$).\n",
        "\n",
        "* But if the average probability were closer to $0.01$, then\n",
        "  $$(0.01)^{182} = 10^{-364},$$\n",
        "  which would **underflow to 0**.\n",
        "\n",
        "So in some cases you’d be safe, in others not.\n",
        "\n",
        "### Some Examples of Log Probabilities\n",
        "\n",
        "Since probabilities are always in the range $[0,1.0]$, log probabilities are in the range $[-\\infty,0.0]$. Here are\n",
        "some examples of log probabilities (we'll use natural logs, but the base really doesn't matter):\n",
        "\n",
        "    Probability         Log Probability\n",
        "      1.0                 0.0\n",
        "      1/2                -0.6931471805599453\n",
        "      1/3                -1.0986122886681098\n",
        "      1/4                -1.3862943611198906\n",
        "      0.01               -4.605170185988091\n",
        "      1e-10              -23.025850929940457\n",
        "      1e-1000            -2302.5850929940457\n",
        "\n",
        "(To put this in somewhat real terms, suppose you and a friend could both randomly choose an **atom** somewhere in the observable\n",
        "universe: the probability that you both choose the same atom is approximately 1e-80.)\n",
        "\n",
        "### Why we use log-probabilities anyway\n",
        "\n",
        "Even if underflow is not common in Brown sentences, there are three strong reasons to switch to log-space:\n",
        "\n",
        "1. **Smoothing produces tiny probabilities.** With add-one or Kneser–Ney smoothing, many n-grams have very small values, making underflow more likely.\n",
        "2. **Corpus-level calculations.** Perplexity is often computed over *all tokens* in the corpus. With Brown’s ~1M tokens, multiplying raw probabilities is completely impossible.\n",
        "3. **Consistency with NLP practice.** Modern language models (n-gram and neural alike) always work in log-space. Teaching it here ensures the method scales to larger datasets like Shakespeare, WikiText, or web-scale corpora.\n",
        "\n",
        "### The log-space trick\n",
        "\n",
        "Recall how computing in log-space works:\n",
        "\n",
        "- Convert your numbers to logs\n",
        "- Instead of multiplying, add  \n",
        "- Instead of exponentiation, multiply\n",
        "- If you need to sort, or compare using $\\lt$ or $\\le$, just do it in log-space (since it is monotonic, i.e., preserves order)\n",
        "- Convert back to normal if you want to print it out in human-readable form as a metric or use it with code that expects normal probabilities (e.g., softmax, or sampling).\n",
        "\n",
        "Thus, instead of multiplying probabilities, we sum log probabilities:\n",
        "\n",
        "$$\n",
        "\\log P(w_1, w_2, \\dots, w_n) = \\sum_{i=1}^n \\log P(w_i \\mid \\text{context})\n",
        "$$\n",
        "\n",
        "This prevents underflow, keeps values in a manageable numeric range, and makes computation easier.\n",
        "\n",
        "* **Ranking:** For decoding or beam search, you can use log-probabilities directly, since $\\log$ is monotonic. No conversion back is needed.\n",
        "* **Perplexity:**\n",
        "\n",
        "$$\n",
        "\\text{PP} = \\exp\\left(-\\tfrac{1}{n} \\sum_{i=1}^n \\log P(w_i \\mid \\text{context})\\right)\n",
        "$$\n",
        "\n",
        "Here the exponential is applied only at the end.\n",
        "\n",
        "* **Sampling:** To draw the next word, convert log-probabilities back with `exp()` to normalize.\n",
        "\n",
        "---\n",
        "\n",
        "✅ **TL;DR Summary:** In the Brown Corpus, you *might* get away with raw probabilities for single sentences, but log-space is essential once you apply smoothing, compute perplexity over the whole corpus, or move to larger datasets. It’s also the standard method in NLP, so it’s best to learn it now.\n",
        "\n"
      ]
    }
  ],
  "metadata": {
    "kernelspec": {
      "display_name": "Python 3",
      "name": "python3"
    },
    "language_info": {
      "codemirror_mode": {
        "name": "ipython",
        "version": 3
      },
      "file_extension": ".py",
      "mimetype": "text/x-python",
      "name": "python",
      "nbconvert_exporter": "python",
      "pygments_lexer": "ipython3",
      "version": "3.10.18"
    },
    "colab": {
      "provenance": [],
      "gpuType": "A100",
      "include_colab_link": true
    },
    "accelerator": "GPU"
  },
  "nbformat": 4,
  "nbformat_minor": 0
}